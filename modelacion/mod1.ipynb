{
 "metadata": {
  "language_info": {
   "codemirror_mode": {
    "name": "ipython",
    "version": 3
   },
   "file_extension": ".py",
   "mimetype": "text/x-python",
   "name": "python",
   "nbconvert_exporter": "python",
   "pygments_lexer": "ipython3",
   "version": "3.8.3-final"
  },
  "orig_nbformat": 2,
  "kernelspec": {
   "name": "python3",
   "display_name": "Python 3"
  }
 },
 "nbformat": 4,
 "nbformat_minor": 2,
 "cells": [
  {
   "cell_type": "code",
   "execution_count": 2,
   "metadata": {},
   "outputs": [],
   "source": [
    "import numpy as np\n",
    "from scipy.optimize import fsolve"
   ]
  },
  {
   "cell_type": "code",
   "execution_count": 3,
   "metadata": {},
   "outputs": [],
   "source": [
    "def get_xy(f, a, b, n):\n",
    "    x = np.linspace(a,b,n)\n",
    "    y = f(x)\n",
    "\n",
    "    return x, y"
   ]
  },
  {
   "cell_type": "code",
   "execution_count": 4,
   "metadata": {},
   "outputs": [],
   "source": [
    "def find_cp(x, f_x):\n",
    "    # Como necesitamos empezar con una pendiente anterior, antes de hacer tu ciclo encuentra\n",
    "    # la pendiente entre los dos primeros valores\n",
    "    last_slope = (f_x[1]-f_x[0])/(x[1]-x[0])\n",
    "    indxs = []\n",
    "    types = []\n",
    "\n",
    "    # Queremos hacer un ciclo para calcular cada pendiente, como ya calculamos la pendiente entre\n",
    "    # el primer y segundo punto, empezamos con el índice 2.\n",
    "    for i in range(2,len(f_x)):\n",
    "        # Calcula la nueva pendiente\n",
    "        this_slope = (f_x[i]-f_x[i-1])/(x[i]-x[i-1])\n",
    "        \n",
    "        # Utilizando las positividades de la pendiente, sabemos que si cambia de signo es un punto critico\n",
    "        # Por lo que si el resultado de la multiplicacion es negativa, es un punto critico\n",
    "        if (this_slope*last_slope) <= 0:\n",
    "            indxs.append(i)\n",
    "            if last_slope < 0:\n",
    "                types.append('min')\n",
    "            elif last_slope > 0:\n",
    "                types.append('max')\n",
    "        else:\n",
    "            continue\n",
    "\n",
    "        last_slope = this_slope\n",
    "        \n",
    "    return indxs, types"
   ]
  },
  {
   "cell_type": "code",
   "execution_count": 6,
   "metadata": {},
   "outputs": [
    {
     "output_type": "stream",
     "name": "stdout",
     "text": [
      "[0.]\n"
     ]
    }
   ],
   "source": [
    "def get_inter(f1, f2, x0):\n",
    "    return fsolve(lambda x: f1(x) - f2(x), x0)\n",
    "    \n",
    "f1 = lambda x: x**2\n",
    "f2 = lambda x: x\n",
    "\n",
    "print(get_inter(f1,f2,0.0))"
   ]
  },
  {
   "cell_type": "code",
   "execution_count": null,
   "metadata": {},
   "outputs": [],
   "source": []
  }
 ]
}