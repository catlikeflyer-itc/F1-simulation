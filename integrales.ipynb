{
 "metadata": {
  "language_info": {
   "codemirror_mode": {
    "name": "ipython",
    "version": 3
   },
   "file_extension": ".py",
   "mimetype": "text/x-python",
   "name": "python",
   "nbconvert_exporter": "python",
   "pygments_lexer": "ipython3",
   "version": 3
  },
  "orig_nbformat": 2
 },
 "nbformat": 4,
 "nbformat_minor": 2,
 "cells": [
  {
   "cell_type": "code",
   "execution_count": null,
   "metadata": {},
   "outputs": [],
   "source": [
    "import numpy as np\n"
   ]
  },
  {
   "cell_type": "code",
   "execution_count": null,
   "metadata": {},
   "outputs": [],
   "source": [
    "f = lambda x: x**2 # Función que define la ecuación\n",
    "a = 0 # Límite inferior\n",
    "b = 5 # Límite superior\n",
    "delta = 0.0001 # Delta"
   ]
  },
  {
   "source": [
    "### Calcula el área bajo la curva sumando los rectángulos y triángulos\n"
   ],
   "cell_type": "markdown",
   "metadata": {}
  },
  {
   "cell_type": "code",
   "execution_count": null,
   "metadata": {},
   "outputs": [],
   "source": [
    "def integral_ineficiente(a, b, delta, f):\n",
    "    x = np.arange(a, b+delta, delta)\n",
    "    y = f(x)\n",
    "\n",
    "    area_rect = sum(y[:-1]*delta) \n",
    "\n",
    "    X = x+delta\n",
    "    Y_diff = (f(X)-y)\n",
    "\n",
    "    area_tri = sum((Y_diff*delta)/2)\n",
    "\n",
    "    area_total = area_rect + area_tri\n",
    "\n",
    "    return area_total"
   ]
  },
  {
   "source": [
    "### Calcula el área bajo la curva utilizando los trapecios formados\n",
    "Sabiendo que $ \\int_{a}^{b} f(x) \\,dx  = Suma\\:de\\:todas\\:las\\:áreas\\:de\\:los\\:trapecios$ y $\\Delta x = x_1-x_0=x_2-x_1=x_3-x_2=\\;... $\n",
    "\n",
    "Considerando que el intervalo de $a$ hasta $b$ divididos en $n$ trapecios...\n",
    "\n",
    "$\\Delta x = \\frac {b-a} {n} $, $x_i=a+n(\\Delta x)$\n",
    "\n",
    "$ \\int_{a}^{b} f(x) \\,dx  = A_a+A_1+A_2+A_3+...+A_{b-1}+A_b$ en donde $A_i = \\frac{f(x_i-1)+f(x_i)} {2} \\Delta x$\n",
    "\n",
    "$ \\int_{a}^{b} f(x) \\,dx  = \\frac{f(x_a)+f(x_1)} {2} \\Delta x+\\frac{f(x_1)+f(x_2)} {2} \\Delta x+\\frac{f(x_2)+f(x_3)} {2} \\Delta x+...+\\frac{f(x_{b-1})+f(x_b)} {2} \\Delta x$\n",
    "\n",
    "Podemos simplificar el factor común $\\Delta x/2$ quedando de la siguiente forma:\n",
    "\n",
    "$\\int_{a}^{b} f(x) \\,dx  = \\frac{\\Delta x}{2}((f(x_a)+f(x_1))+(f(x_1)+f(x_2))+(f(x_2)+f(x_3))+...+(f(x_{b-1})+f(x_b)))$\n",
    "\n",
    "A excepción del límite inferior ($a$) y del superior ($b$), se observa que los valores de $x$ dentro del intervalo dividido en $n$ se presentan dos veces:\n",
    "\n",
    "$\\int_{a}^{b} f(x) \\,dx  = \\frac{\\Delta x}{2}(f(x_a)+2f(x_1)+2f(x_2)+3f(x_3))+...+2f(x_{b-1})+f(x_b))$\n",
    "\n",
    "Que se puede reescribir de la forma:\n",
    "\n",
    "$\\int_{a}^{b} f(x) \\,dx  = \\frac{\\Delta x}{2}(f(x_a)+2\\sum_{i=1}^{n-1}a+n(\\Delta x) +f(x_b))$\n",
    "\n",
    "\n",
    "\n",
    "\n",
    "\n"
   ],
   "cell_type": "markdown",
   "metadata": {}
  },
  {
   "cell_type": "code",
   "execution_count": null,
   "metadata": {},
   "outputs": [],
   "source": [
    "def integral_trapecios(a, b, delta, f):\n",
    "    x = np.arange(a, b+delta, delta)\n",
    "    y = f(x)\n",
    "\n",
    "    X = x+delta\n",
    "    Y_diff = f(X)\n",
    "\n",
    "    areas = delta*((Y_diff+y)/2)\n",
    "\n",
    "    return sum(areas[:-1])\n"
   ]
  },
  {
   "cell_type": "code",
   "execution_count": null,
   "metadata": {},
   "outputs": [],
   "source": [
    "print()"
   ]
  }
 ]
}