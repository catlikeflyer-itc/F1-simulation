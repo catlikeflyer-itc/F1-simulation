{
 "metadata": {
  "language_info": {
   "codemirror_mode": {
    "name": "ipython",
    "version": 3
   },
   "file_extension": ".py",
   "mimetype": "text/x-python",
   "name": "python",
   "nbconvert_exporter": "python",
   "pygments_lexer": "ipython3",
   "version": "3.8.3-final"
  },
  "orig_nbformat": 2,
  "kernelspec": {
   "name": "python3",
   "display_name": "Python 3"
  }
 },
 "nbformat": 4,
 "nbformat_minor": 2,
 "cells": [
  {
   "cell_type": "code",
   "execution_count": 64,
   "metadata": {},
   "outputs": [],
   "source": [
    "import numpy as np\n",
    "from metodos import integral_trapecios"
   ]
  },
  {
   "cell_type": "code",
   "execution_count": 65,
   "metadata": {},
   "outputs": [],
   "source": [
    "def simpson(f, a, b, n):\n",
    "    if n % 2 == 1:\n",
    "        raise ValueError(\"Tiene que ser par\")\n",
    "    dx = (b-a)/n\n",
    "    x = np.linspace(a, b, n+1)\n",
    "    y = f(x)\n",
    "    simpson_sum = 0\n",
    "\n",
    "    for i in range(0,n-1,2):\n",
    "        simpson_sum += (y[i]+4*y[i+1]+y[i+2]) \n",
    "\n",
    "    return (dx/n)*(simpson_sum)\n"
   ]
  },
  {
   "cell_type": "code",
   "execution_count": 66,
   "metadata": {},
   "outputs": [],
   "source": [
    "def simpson(f,a,b,N):\n",
    "    if N%2 == 1:\n",
    "        print(\"N tiene que ser par\")\n",
    "\n",
    "    delta = (b-a)/N # Determinar delta x\n",
    "    x = np.linspace(a,b,N+1) # Crear lista de marcadores en x\n",
    "    y = f(x) # Obtener el valor de la funcion evaluada en cada valor de x\n",
    "\n",
    "    '''\n",
    "    Sumar con la regla 1-4-1\n",
    "    El primer rango suma todos los valores con indice par del primero al penultimo (avanza de dos en dos hasta el penultimo)\n",
    "    El segundo multiplica el valor de \"y\" en indices impares (avanza de dos en dos comenzando por el indice 1)\n",
    "    El ultimo hace lo mismo que el primero solo que comienza desde el indice 2 y considera el ultimo valor\n",
    "    '''\n",
    "    suma = delta/3 * np.sum(y[0:-1:2] + 4*y[1::2] + y[2::2])\n",
    "\n",
    "    return suma"
   ]
  },
  {
   "cell_type": "code",
   "execution_count": 67,
   "metadata": {},
   "outputs": [],
   "source": [
    "f = lambda x: 3*x**2+2*x+1\n",
    "a = 1\n",
    "b = 5\n",
    "n = 100"
   ]
  },
  {
   "cell_type": "code",
   "execution_count": 68,
   "metadata": {},
   "outputs": [
    {
     "output_type": "stream",
     "name": "stdout",
     "text": [
      "152.0\n152.00320000000022\n"
     ]
    }
   ],
   "source": [
    "print(simpson(f, a, b, n))\n",
    "print(integral_trapecios(f, a, b, n))\n"
   ]
  }
 ]
}