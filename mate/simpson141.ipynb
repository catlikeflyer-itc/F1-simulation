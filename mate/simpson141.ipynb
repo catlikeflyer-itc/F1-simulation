{
 "metadata": {
  "language_info": {
   "codemirror_mode": {
    "name": "ipython",
    "version": 3
   },
   "file_extension": ".py",
   "mimetype": "text/x-python",
   "name": "python",
   "nbconvert_exporter": "python",
   "pygments_lexer": "ipython3",
   "version": "3.8.3-final"
  },
  "orig_nbformat": 2,
  "kernelspec": {
   "name": "python3",
   "display_name": "Python 3"
  }
 },
 "nbformat": 4,
 "nbformat_minor": 2,
 "cells": [
  {
   "source": [
    "# Regla de Simpson\n",
    "La regla de Simpson es un método de aproximación para calcular el área debajo del dominio de una función. Para poder usar dicha regla, es necesario establecer una función cuadrática, el dominio del área que se busca y tres puntos dentro de la función para generar una parábola.\n",
    "\n",
    "Primeramente, se desarrollará la fórmula de la Regla 1-4-1 para posteriormente utilizarla.\n",
    "\n",
    "Se tiene una función del estilo: $f(x)= ax^2 + bx +c$\n",
    "\n",
    "También establecemos el dominio y los tres puntos dentro de la función para generar una parábola: $y_0, y_1, y_2$\n",
    "\n",
    "Buscamos el área debajo de dicha función integrando y utilizando los intervalos h y -h : $Área=\\int_{-h}^{h} ax^2 + bx +c\\, dx $\n",
    "\n",
    "Resolvemos:\n",
    "\n",
    "$Área=\\frac{ax^3}{3} + \\frac{bx^2}{2} + cx|_{-h}^{h}$\n",
    "\n",
    "Debido a que el valor de B tiene una potencia al cuadrado, cuando evaluas B desaparece\n",
    "\n",
    "$Área=\\frac{2ah^3}{3} + 2ch$\n",
    "\n",
    "Sacamos factor común por: $\\frac{h}{3}$:\n",
    "\n",
    "$Área=\\frac{h}{3}(2ah^2 + 6c)$\n",
    "\n",
    "Ahora es necesario buscar el valor de c y de a, por lo que evaluamos por h y por -h en la función original y sumarlas (es importante mencionar que h es el punto extremo del lado derecho y -h del lado de la izquierda; por lo que sería $f(h) = y_2$ y $f(-h) = y_0$ respectivamente):\n",
    "\n",
    "$f(h)= ah^2 + bh +c = y_2\\\\ f(-h)=ah^2 - bh +c = y_0$\n",
    "\n",
    "Resultado de la suma:\n",
    "\n",
    "$f(h)=2ah^2 + 2c = y_0 + y_2$\n",
    "\n",
    "Ahora tenemos que despejar $2ah^2$; y como al evaluar la función en 0 el único valor que nos queda es c, se puede deducir que $c=y_1$\n",
    "\n",
    "$f(h)=2ah^2 = y_0 + y_2 - 2y_1$\n",
    "\n",
    "Finalmente, solo nos queda sustituir nuestros valores en la ecuación que sacamos del área:\n",
    "\n",
    "$Área=\\frac{h}{3}(2ah^2 + 6c)\\\\ Área=\\frac{h}{3}(y_0 + y_2 - 2y_1 + 6y_1)\\\\ Área=\\frac{h}{3}(y_0 + 4y_1 + y_2)$\n",
    "\n",
    "Si queremos estimar el resultado con más precisión, podemos hacer uso de esta regla varias veces o aumentar el número de intervalos.\n",
    "\n",
    "Para sacar los intervalos deseados, es necesario usar esta fórmula:\n",
    "\n",
    "$\\Delta x=\\frac{x_n-x_0}{n}$\n",
    "\n",
    "La nueva fórmula se vería de la forma:\n",
    "\n",
    "$Área=\\int_{x_0}^{x_n} f(x) = \\frac {\\Delta x}{3}(f(x_0)+4f(x_1)+2f(x_2)+4f(x_3)+...+4f(x_{n-3})+2f(x_{n-2}) + 4f(x_{n-1}) + f(x_n)$\n"
   ],
   "cell_type": "markdown",
   "metadata": {}
  },
  {
   "cell_type": "code",
   "execution_count": 64,
   "metadata": {},
   "outputs": [],
   "source": [
    "import numpy as np\n",
    "from metodos import integral_trapecios"
   ]
  },
  {
   "cell_type": "code",
   "execution_count": 66,
   "metadata": {},
   "outputs": [],
   "source": [
    "def simpson(f,a,b,N):\n",
    "    if N%2 == 1:\n",
    "        print(\"N tiene que ser par\")\n",
    "\n",
    "    delta = (b-a)/N # Determinar delta x\n",
    "    x = np.linspace(a,b,N+1) # Crear lista de marcadores en x\n",
    "    y = f(x) # Obtener el valor de la funcion evaluada en cada valor de x\n",
    "\n",
    "    '''\n",
    "    Sumar con la regla 1-4-1\n",
    "    El primer rango suma todos los valores con indice par del primero al penultimo (avanza de dos en dos hasta el penultimo)\n",
    "    El segundo multiplica el valor de \"y\" en indices impares (avanza de dos en dos comenzando por el indice 1)\n",
    "    El ultimo hace lo mismo que el primero solo que comienza desde el indice 2 y considera el ultimo valor\n",
    "    '''\n",
    "    suma = delta/3 * np.sum(y[0:-1:2] + 4*y[1::2] + y[2::2])\n",
    "\n",
    "    return suma"
   ]
  },
  {
   "cell_type": "code",
   "execution_count": 67,
   "metadata": {},
   "outputs": [],
   "source": [
    "f = lambda x: 3*x**2+2*x+1\n",
    "a = 1\n",
    "b = 5\n",
    "n = 100"
   ]
  },
  {
   "cell_type": "code",
   "execution_count": 68,
   "metadata": {},
   "outputs": [
    {
     "output_type": "stream",
     "name": "stdout",
     "text": [
      "152.0\n152.00320000000022\n"
     ]
    }
   ],
   "source": [
    "print(simpson(f, a, b, n))\n",
    "print(integral_trapecios(f, a, b, n))\n"
   ]
  }
 ]
}